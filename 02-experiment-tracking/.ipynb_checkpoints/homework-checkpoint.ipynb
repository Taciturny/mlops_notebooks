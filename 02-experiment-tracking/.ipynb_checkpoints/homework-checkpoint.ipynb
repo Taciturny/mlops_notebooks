{
 "cells": [
  {
   "cell_type": "code",
   "execution_count": 1,
   "metadata": {},
   "outputs": [
    {
     "name": "stdout",
     "output_type": "stream",
     "text": [
      "MLflow version: 2.3.1\n"
     ]
    }
   ],
   "source": [
    "import mlflow\n",
    "\n",
    "mlflow_version = mlflow.__version__\n",
    "print(\"MLflow version:\", mlflow_version)"
   ]
  },
  {
   "cell_type": "code",
   "execution_count": 2,
   "metadata": {},
   "outputs": [
    {
     "name": "stderr",
     "output_type": "stream",
     "text": [
      "python: can't open file 'C:\\Users\\USER\\Desktop\\Supplementary Data\\MLOPs\\02-experiment-tracking\\02-experiment-tracking\\preprocess_data.py': [Errno 2] No such file or directory\n"
     ]
    }
   ],
   "source": [
    "! python 02-experiment-tracking/preprocess_data.py --raw_data_path ./data --dest_path ./output"
   ]
  },
  {
   "cell_type": "code",
   "execution_count": null,
   "metadata": {},
   "outputs": [],
   "source": [
    "!python \"C:\\Users\\USER\\Desktop\\Supplementary Data\\MLOPs\\02-experiment-tracking\\preprocess_data.py\" --raw_data_path ./data --dest_path ./output\n"
   ]
  }
 ],
 "metadata": {
  "kernelspec": {
   "display_name": "Python 3 (ipykernel)",
   "language": "python",
   "name": "python3"
  },
  "language_info": {
   "codemirror_mode": {
    "name": "ipython",
    "version": 3
   },
   "file_extension": ".py",
   "mimetype": "text/x-python",
   "name": "python",
   "nbconvert_exporter": "python",
   "pygments_lexer": "ipython3",
   "version": "3.9.16"
  }
 },
 "nbformat": 4,
 "nbformat_minor": 2
}
